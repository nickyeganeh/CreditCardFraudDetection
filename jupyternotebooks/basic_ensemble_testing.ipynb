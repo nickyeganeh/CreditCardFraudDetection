{
 "cells": [
  {
   "cell_type": "code",
   "execution_count": 1,
   "id": "9577ab21",
   "metadata": {},
   "outputs": [],
   "source": [
    "import numpy as np\n",
    "import matplotlib.pyplot as plt\n",
    "import pandas as pd\n",
    "import joblib\n",
    "\n",
    "import warnings\n",
    "warnings.filterwarnings('ignore')"
   ]
  },
  {
   "cell_type": "code",
   "execution_count": 2,
   "id": "ef8b924d",
   "metadata": {},
   "outputs": [],
   "source": [
    "X_test = pd.read_csv(\"../train-test_data/X_test.csv\")\n",
    "y_test = pd.read_csv(\"../train-test_data/y_test.csv\").Class"
   ]
  },
  {
   "cell_type": "code",
   "execution_count": 3,
   "id": "49a98ca3",
   "metadata": {},
   "outputs": [],
   "source": [
    "from sklearn.metrics import f1_score\n",
    "from sklearn.metrics import precision_recall_fscore_support"
   ]
  },
  {
   "cell_type": "markdown",
   "id": "411e86d0",
   "metadata": {},
   "source": [
    "# XGBoost Testing"
   ]
  },
  {
   "cell_type": "code",
   "execution_count": 4,
   "id": "470d3c63",
   "metadata": {},
   "outputs": [
    {
     "name": "stdout",
     "output_type": "stream",
     "text": [
      "0.8236379836897062\n"
     ]
    }
   ],
   "source": [
    "xgbc = joblib.load('../pythonfiles/xgbc.sav')\n",
    "y_pred = xgbc.predict(X_test)\n",
    "print(f1_score(y_test, y_pred, average = 'weighted'))"
   ]
  },
  {
   "cell_type": "code",
   "execution_count": 5,
   "id": "b07eb654",
   "metadata": {},
   "outputs": [
    {
     "data": {
      "text/plain": [
       "(array([0, 1]), array([59917, 25526]))"
      ]
     },
     "execution_count": 5,
     "metadata": {},
     "output_type": "execute_result"
    }
   ],
   "source": [
    "np.unique(y_pred, return_counts = True)"
   ]
  },
  {
   "cell_type": "code",
   "execution_count": 6,
   "id": "d5d5acf7",
   "metadata": {},
   "outputs": [
    {
     "data": {
      "text/plain": [
       "0    85308\n",
       "1      135\n",
       "Name: Class, dtype: int64"
      ]
     },
     "execution_count": 6,
     "metadata": {},
     "output_type": "execute_result"
    }
   ],
   "source": [
    "y_test.value_counts()"
   ]
  },
  {
   "cell_type": "code",
   "execution_count": 7,
   "id": "b410f740",
   "metadata": {},
   "outputs": [
    {
     "name": "stdout",
     "output_type": "stream",
     "text": [
      "0.8431821663589528\n"
     ]
    }
   ],
   "source": [
    "abc = joblib.load('../pythonfiles/abc.sav')\n",
    "y_pred = abc.predict(X_test)\n",
    "print(f1_score(y_test, y_pred, average = 'weighted'))"
   ]
  },
  {
   "cell_type": "code",
   "execution_count": 10,
   "id": "5868bacf",
   "metadata": {},
   "outputs": [],
   "source": [
    "#gbc = joblib.load('../pythonfiles/gbc.sav')\n",
    "#y_pred = gbc.predict(X_test)"
   ]
  },
  {
   "cell_type": "code",
   "execution_count": 11,
   "id": "ff9a5d32",
   "metadata": {},
   "outputs": [
    {
     "name": "stdout",
     "output_type": "stream",
     "text": [
      "0.8237372094389814\n"
     ]
    }
   ],
   "source": [
    "rfc = joblib.load('../pythonfiles/rfc.sav')\n",
    "y_pred = rfc.predict(X_test)\n",
    "print(f1_score(y_test, y_pred, average = 'weighted'))"
   ]
  },
  {
   "cell_type": "code",
   "execution_count": 12,
   "id": "ee1fcf05",
   "metadata": {},
   "outputs": [
    {
     "name": "stdout",
     "output_type": "stream",
     "text": [
      "0.9154618728662782\n"
     ]
    }
   ],
   "source": [
    "etc = joblib.load('../pythonfiles/etc.sav')\n",
    "y_pred = etc.predict(X_test)\n",
    "print(f1_score(y_test, y_pred, average = 'weighted'))"
   ]
  },
  {
   "cell_type": "code",
   "execution_count": null,
   "id": "a08700ae",
   "metadata": {},
   "outputs": [],
   "source": []
  }
 ],
 "metadata": {
  "kernelspec": {
   "display_name": "Python 3 (ipykernel)",
   "language": "python",
   "name": "python3"
  },
  "language_info": {
   "codemirror_mode": {
    "name": "ipython",
    "version": 3
   },
   "file_extension": ".py",
   "mimetype": "text/x-python",
   "name": "python",
   "nbconvert_exporter": "python",
   "pygments_lexer": "ipython3",
   "version": "3.9.12"
  }
 },
 "nbformat": 4,
 "nbformat_minor": 5
}
