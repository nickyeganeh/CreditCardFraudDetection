{
 "cells": [
  {
   "cell_type": "code",
   "execution_count": 4,
   "id": "9577ab21",
   "metadata": {},
   "outputs": [],
   "source": [
    "import numpy as np\n",
    "import matplotlib.pyplot as plt\n",
    "import pandas as pd\n",
    "import joblib"
   ]
  },
  {
   "cell_type": "code",
   "execution_count": 5,
   "id": "ef8b924d",
   "metadata": {},
   "outputs": [],
   "source": [
    "X_test = pd.read_csv(\"../train-test_data/X_test.csv\")\n",
    "y_test = pd.read_csv(\"../train-test_data/y_test.csv\").Class"
   ]
  },
  {
   "cell_type": "code",
   "execution_count": 6,
   "id": "49a98ca3",
   "metadata": {},
   "outputs": [],
   "source": [
    "from sklearn.metrics import f1_score\n",
    "from sklearn.metrics import precision_recall_fscore_support"
   ]
  },
  {
   "cell_type": "markdown",
   "id": "411e86d0",
   "metadata": {},
   "source": [
    "# XGBoost Testing"
   ]
  },
  {
   "cell_type": "code",
   "execution_count": 14,
   "id": "470d3c63",
   "metadata": {},
   "outputs": [
    {
     "name": "stdout",
     "output_type": "stream",
     "text": [
      "0.997662190591133\n"
     ]
    }
   ],
   "source": [
    "xgbc = joblib.load('../pythonfiles/xgbc.sav')\n",
    "y_pred = xgbc.predict(X_test)\n",
    "print(f1_score(y_test, y_pred, average = 'weighted'))"
   ]
  },
  {
   "cell_type": "code",
   "execution_count": 23,
   "id": "b07eb654",
   "metadata": {},
   "outputs": [
    {
     "data": {
      "text/plain": [
       "(array([0]), array([71202]))"
      ]
     },
     "execution_count": 23,
     "metadata": {},
     "output_type": "execute_result"
    }
   ],
   "source": [
    "np.unique(y_pred, return_counts = True)"
   ]
  },
  {
   "cell_type": "code",
   "execution_count": 21,
   "id": "d5d5acf7",
   "metadata": {},
   "outputs": [
    {
     "data": {
      "text/plain": [
       "0    71091\n",
       "1      111\n",
       "Name: Class, dtype: int64"
      ]
     },
     "execution_count": 21,
     "metadata": {},
     "output_type": "execute_result"
    }
   ],
   "source": [
    "y_test.value_counts()"
   ]
  },
  {
   "cell_type": "code",
   "execution_count": null,
   "id": "b410f740",
   "metadata": {},
   "outputs": [],
   "source": []
  }
 ],
 "metadata": {
  "kernelspec": {
   "display_name": "Python 3 (ipykernel)",
   "language": "python",
   "name": "python3"
  },
  "language_info": {
   "codemirror_mode": {
    "name": "ipython",
    "version": 3
   },
   "file_extension": ".py",
   "mimetype": "text/x-python",
   "name": "python",
   "nbconvert_exporter": "python",
   "pygments_lexer": "ipython3",
   "version": "3.9.12"
  }
 },
 "nbformat": 4,
 "nbformat_minor": 5
}
